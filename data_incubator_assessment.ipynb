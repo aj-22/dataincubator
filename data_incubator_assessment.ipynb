{
 "cells": [
  {
   "cell_type": "code",
   "execution_count": 255,
   "metadata": {},
   "outputs": [],
   "source": [
    "import numpy as np\n",
    "import random\n",
    "import time\n",
    "import pandas as pd\n",
    "from matplotlib import pyplot as plt\n",
    "from numpy import linalg as LA\n",
    "import pickle as pk\n",
    "import statsmodels.api as sm"
   ]
  },
  {
   "cell_type": "code",
   "execution_count": 7,
   "metadata": {},
   "outputs": [],
   "source": [
    "def load_data_np(filename):\n",
    "    return np.genfromtxt(filename, delimiter=',')\n",
    "def load_data_pd(filename):\n",
    "    return pd.read_csv(filename,delimiter=',')"
   ]
  },
  {
   "cell_type": "code",
   "execution_count": 3,
   "metadata": {},
   "outputs": [],
   "source": [
    "filename=r\".\\data\\NYPD_Motor_Vehicle_Collisions.csv\"\n"
   ]
  },
  {
   "cell_type": "code",
   "execution_count": 21,
   "metadata": {},
   "outputs": [],
   "source": [
    "types_dict={\n",
    "\"DATE\":\"object\",\n",
    "\"TIME\":\"object\",\n",
    "\"BOROUGH\":\"object\",\n",
    "\"ZIP CODE\":\"object\",\n",
    "\"LATITUDE\":\"float64\",\n",
    "\"LONGITUDE\":\"float64\",\n",
    "\"LOCATION\":\"object\",\n",
    "\"ON STREET NAME\":\"object\",\n",
    "\"CROSS STREET NAME\":\"object\",\n",
    "\"OFF STREET NAME\":\"object\",\n",
    "\"NUMBER OF PERSONS INJURED\":\"float64\",\n",
    "\"NUMBER OF PERSONS KILLED\":\"float64\",\n",
    "\"NUMBER OF PEDESTRIANS INJURED\":\"float64\",\n",
    "\"NUMBER OF PEDESTRIANS KILLED\":\"float64\",\n",
    "\"NUMBER OF CYCLIST INJURED\":\"float64\",\n",
    "\"NUMBER OF CYCLIST KILLED\":\"float64\",\n",
    "\"NUMBER OF MOTORIST INJURED\":\"float64\",\n",
    "\"NUMBER OF MOTORIST KILLED\":\"float64\",\n",
    "\"CONTRIBUTING FACTOR VEHICLE 1\":\"object\",\n",
    "\"CONTRIBUTING FACTOR VEHICLE 2\":\"object\",\n",
    "\"CONTRIBUTING FACTOR VEHICLE 3\":\"object\",\n",
    "\"CONTRIBUTING FACTOR VEHICLE 4\":\"object\",\n",
    "\"CONTRIBUTING FACTOR VEHICLE 5\":\"object\",\n",
    "\"UNIQUE KEY\":\"int64\",\n",
    "\"VEHICLE TYPE CODE 1\":\"object\",\n",
    "\"VEHICLE TYPE CODE 2\":\"object\",\n",
    "\"VEHICLE TYPE CODE 3\":\"object\",\n",
    "\"VEHICLE TYPE CODE 4\":\"object\",\n",
    "\"VEHICLE TYPE CODE 5\":\"object\"\n",
    "}"
   ]
  },
  {
   "cell_type": "code",
   "execution_count": 53,
   "metadata": {},
   "outputs": [
    {
     "data": {
      "text/html": [
       "<div>\n",
       "<style scoped>\n",
       "    .dataframe tbody tr th:only-of-type {\n",
       "        vertical-align: middle;\n",
       "    }\n",
       "\n",
       "    .dataframe tbody tr th {\n",
       "        vertical-align: top;\n",
       "    }\n",
       "\n",
       "    .dataframe thead th {\n",
       "        text-align: right;\n",
       "    }\n",
       "</style>\n",
       "<table border=\"1\" class=\"dataframe\">\n",
       "  <thead>\n",
       "    <tr style=\"text-align: right;\">\n",
       "      <th></th>\n",
       "      <th>DATE</th>\n",
       "      <th>TIME</th>\n",
       "      <th>BOROUGH</th>\n",
       "      <th>ZIP CODE</th>\n",
       "      <th>LATITUDE</th>\n",
       "      <th>LONGITUDE</th>\n",
       "      <th>LOCATION</th>\n",
       "      <th>ON STREET NAME</th>\n",
       "      <th>CROSS STREET NAME</th>\n",
       "      <th>OFF STREET NAME</th>\n",
       "      <th>...</th>\n",
       "      <th>CONTRIBUTING FACTOR VEHICLE 2</th>\n",
       "      <th>CONTRIBUTING FACTOR VEHICLE 3</th>\n",
       "      <th>CONTRIBUTING FACTOR VEHICLE 4</th>\n",
       "      <th>CONTRIBUTING FACTOR VEHICLE 5</th>\n",
       "      <th>UNIQUE KEY</th>\n",
       "      <th>VEHICLE TYPE CODE 1</th>\n",
       "      <th>VEHICLE TYPE CODE 2</th>\n",
       "      <th>VEHICLE TYPE CODE 3</th>\n",
       "      <th>VEHICLE TYPE CODE 4</th>\n",
       "      <th>VEHICLE TYPE CODE 5</th>\n",
       "    </tr>\n",
       "  </thead>\n",
       "  <tbody>\n",
       "    <tr>\n",
       "      <th>0</th>\n",
       "      <td>2019-04-30</td>\n",
       "      <td>0:00</td>\n",
       "      <td>BROOKLYN</td>\n",
       "      <td>11222</td>\n",
       "      <td>40.727184</td>\n",
       "      <td>-73.950700</td>\n",
       "      <td>(40.727184, -73.9507)</td>\n",
       "      <td>NaN</td>\n",
       "      <td>NaN</td>\n",
       "      <td>236       ECKFORD STREET</td>\n",
       "      <td>...</td>\n",
       "      <td>Unspecified</td>\n",
       "      <td>NaN</td>\n",
       "      <td>NaN</td>\n",
       "      <td>NaN</td>\n",
       "      <td>4123208</td>\n",
       "      <td>Sedan</td>\n",
       "      <td>Station Wagon/Sport Utility Vehicle</td>\n",
       "      <td>NaN</td>\n",
       "      <td>NaN</td>\n",
       "      <td>NaN</td>\n",
       "    </tr>\n",
       "    <tr>\n",
       "      <th>1</th>\n",
       "      <td>2019-04-30</td>\n",
       "      <td>0:00</td>\n",
       "      <td>MANHATTAN</td>\n",
       "      <td>10075</td>\n",
       "      <td>40.776318</td>\n",
       "      <td>-73.962135</td>\n",
       "      <td>(40.776318, -73.962135)</td>\n",
       "      <td>EAST 79 STREET</td>\n",
       "      <td>MADISON AVENUE</td>\n",
       "      <td>NaN</td>\n",
       "      <td>...</td>\n",
       "      <td>Unspecified</td>\n",
       "      <td>NaN</td>\n",
       "      <td>NaN</td>\n",
       "      <td>NaN</td>\n",
       "      <td>4123128</td>\n",
       "      <td>Station Wagon/Sport Utility Vehicle</td>\n",
       "      <td>Ambulance</td>\n",
       "      <td>NaN</td>\n",
       "      <td>NaN</td>\n",
       "      <td>NaN</td>\n",
       "    </tr>\n",
       "    <tr>\n",
       "      <th>2</th>\n",
       "      <td>2019-04-30</td>\n",
       "      <td>0:00</td>\n",
       "      <td>QUEENS</td>\n",
       "      <td>11354</td>\n",
       "      <td>40.763283</td>\n",
       "      <td>-73.830710</td>\n",
       "      <td>(40.763283, -73.83071)</td>\n",
       "      <td>NaN</td>\n",
       "      <td>NaN</td>\n",
       "      <td>137-17    NORTHERN BOULEVARD</td>\n",
       "      <td>...</td>\n",
       "      <td>Unspecified</td>\n",
       "      <td>NaN</td>\n",
       "      <td>NaN</td>\n",
       "      <td>NaN</td>\n",
       "      <td>4124069</td>\n",
       "      <td>Sedan</td>\n",
       "      <td>NaN</td>\n",
       "      <td>NaN</td>\n",
       "      <td>NaN</td>\n",
       "      <td>NaN</td>\n",
       "    </tr>\n",
       "    <tr>\n",
       "      <th>3</th>\n",
       "      <td>2019-04-30</td>\n",
       "      <td>0:00</td>\n",
       "      <td>QUEENS</td>\n",
       "      <td>11412</td>\n",
       "      <td>40.705240</td>\n",
       "      <td>-73.775080</td>\n",
       "      <td>(40.70524, -73.77508)</td>\n",
       "      <td>LIBERTY AVENUE</td>\n",
       "      <td>DUNKIRK STREET</td>\n",
       "      <td>NaN</td>\n",
       "      <td>...</td>\n",
       "      <td>Unspecified</td>\n",
       "      <td>NaN</td>\n",
       "      <td>NaN</td>\n",
       "      <td>NaN</td>\n",
       "      <td>4123202</td>\n",
       "      <td>COMMU</td>\n",
       "      <td>Sedan</td>\n",
       "      <td>NaN</td>\n",
       "      <td>NaN</td>\n",
       "      <td>NaN</td>\n",
       "    </tr>\n",
       "    <tr>\n",
       "      <th>4</th>\n",
       "      <td>2019-04-30</td>\n",
       "      <td>0:00</td>\n",
       "      <td>NaN</td>\n",
       "      <td>NaN</td>\n",
       "      <td>40.593525</td>\n",
       "      <td>-73.996280</td>\n",
       "      <td>(40.593525, -73.99628)</td>\n",
       "      <td>BELT PARKWAY</td>\n",
       "      <td>NaN</td>\n",
       "      <td>NaN</td>\n",
       "      <td>...</td>\n",
       "      <td>Unspecified</td>\n",
       "      <td>NaN</td>\n",
       "      <td>NaN</td>\n",
       "      <td>NaN</td>\n",
       "      <td>4123344</td>\n",
       "      <td>Station Wagon/Sport Utility Vehicle</td>\n",
       "      <td>Sedan</td>\n",
       "      <td>NaN</td>\n",
       "      <td>NaN</td>\n",
       "      <td>NaN</td>\n",
       "    </tr>\n",
       "  </tbody>\n",
       "</table>\n",
       "<p>5 rows × 29 columns</p>\n",
       "</div>"
      ],
      "text/plain": [
       "        DATE  TIME    BOROUGH ZIP CODE   LATITUDE  LONGITUDE  \\\n",
       "0 2019-04-30  0:00   BROOKLYN    11222  40.727184 -73.950700   \n",
       "1 2019-04-30  0:00  MANHATTAN    10075  40.776318 -73.962135   \n",
       "2 2019-04-30  0:00     QUEENS    11354  40.763283 -73.830710   \n",
       "3 2019-04-30  0:00     QUEENS    11412  40.705240 -73.775080   \n",
       "4 2019-04-30  0:00        NaN      NaN  40.593525 -73.996280   \n",
       "\n",
       "                  LOCATION                    ON STREET NAME  \\\n",
       "0    (40.727184, -73.9507)                               NaN   \n",
       "1  (40.776318, -73.962135)  EAST 79 STREET                     \n",
       "2   (40.763283, -73.83071)                               NaN   \n",
       "3    (40.70524, -73.77508)  LIBERTY AVENUE                     \n",
       "4   (40.593525, -73.99628)  BELT PARKWAY                       \n",
       "\n",
       "  CROSS STREET NAME                           OFF STREET NAME  ...  \\\n",
       "0               NaN  236       ECKFORD STREET                  ...   \n",
       "1    MADISON AVENUE                                       NaN  ...   \n",
       "2               NaN  137-17    NORTHERN BOULEVARD              ...   \n",
       "3    DUNKIRK STREET                                       NaN  ...   \n",
       "4               NaN                                       NaN  ...   \n",
       "\n",
       "   CONTRIBUTING FACTOR VEHICLE 2  CONTRIBUTING FACTOR VEHICLE 3  \\\n",
       "0                    Unspecified                            NaN   \n",
       "1                    Unspecified                            NaN   \n",
       "2                    Unspecified                            NaN   \n",
       "3                    Unspecified                            NaN   \n",
       "4                    Unspecified                            NaN   \n",
       "\n",
       "   CONTRIBUTING FACTOR VEHICLE 4  CONTRIBUTING FACTOR VEHICLE 5  UNIQUE KEY  \\\n",
       "0                            NaN                            NaN     4123208   \n",
       "1                            NaN                            NaN     4123128   \n",
       "2                            NaN                            NaN     4124069   \n",
       "3                            NaN                            NaN     4123202   \n",
       "4                            NaN                            NaN     4123344   \n",
       "\n",
       "                   VEHICLE TYPE CODE 1                  VEHICLE TYPE CODE 2  \\\n",
       "0                                Sedan  Station Wagon/Sport Utility Vehicle   \n",
       "1  Station Wagon/Sport Utility Vehicle                            Ambulance   \n",
       "2                                Sedan                                  NaN   \n",
       "3                                COMMU                                Sedan   \n",
       "4  Station Wagon/Sport Utility Vehicle                                Sedan   \n",
       "\n",
       "   VEHICLE TYPE CODE 3 VEHICLE TYPE CODE 4 VEHICLE TYPE CODE 5  \n",
       "0                  NaN                 NaN                 NaN  \n",
       "1                  NaN                 NaN                 NaN  \n",
       "2                  NaN                 NaN                 NaN  \n",
       "3                  NaN                 NaN                 NaN  \n",
       "4                  NaN                 NaN                 NaN  \n",
       "\n",
       "[5 rows x 29 columns]"
      ]
     },
     "execution_count": 53,
     "metadata": {},
     "output_type": "execute_result"
    }
   ],
   "source": [
    "df.head()"
   ]
  },
  {
   "cell_type": "code",
   "execution_count": 63,
   "metadata": {},
   "outputs": [],
   "source": [
    "nypd_df_raw=pd.read_csv(filename,delimiter=',',dtype=types_dict)"
   ]
  },
  {
   "cell_type": "markdown",
   "metadata": {},
   "source": [
    "FIltering out the entries after Dec 31,2018"
   ]
  },
  {
   "cell_type": "code",
   "execution_count": 65,
   "metadata": {},
   "outputs": [],
   "source": [
    "nypd_df_raw['DATE']=pd.to_datetime(nypd_df_raw['DATE'], format=\"%m/%d/%Y\")"
   ]
  },
  {
   "cell_type": "code",
   "execution_count": 80,
   "metadata": {},
   "outputs": [],
   "source": [
    "less_than_2019=nypd_df_raw['DATE']<='2018-12-31'\n"
   ]
  },
  {
   "cell_type": "code",
   "execution_count": 83,
   "metadata": {},
   "outputs": [],
   "source": [
    "nypd_df=nypd_df_raw[less_than_2019]"
   ]
  },
  {
   "cell_type": "markdown",
   "metadata": {},
   "source": [
    "#### What is the total number of persons injured in the dataset (up to December 31, 2018?)"
   ]
  },
  {
   "cell_type": "code",
   "execution_count": 84,
   "metadata": {},
   "outputs": [
    {
     "name": "stdout",
     "output_type": "stream",
     "text": [
      "368034\n"
     ]
    }
   ],
   "source": [
    "print(int(nypd_df[['NUMBER OF PERSONS INJURED']].sum()[0]))"
   ]
  },
  {
   "cell_type": "markdown",
   "metadata": {},
   "source": [
    "#### What proportion of collisions in 2016 resulted in injury or death of a cyclist?"
   ]
  },
  {
   "cell_type": "code",
   "execution_count": 71,
   "metadata": {},
   "outputs": [],
   "source": [
    "nypd_df[['NUMBER OF CYCLIST INJURED']].sum()+nypd_df[['NUMBER OF CYCLIST KILLED']].sum()"
   ]
  },
  {
   "cell_type": "code",
   "execution_count": 89,
   "metadata": {},
   "outputs": [],
   "source": [
    "is_2016=(nypd_df['DATE']<='2016-12-31') & (nypd_df['DATE']>='2016-01-01')"
   ]
  },
  {
   "cell_type": "code",
   "execution_count": 112,
   "metadata": {},
   "outputs": [],
   "source": [
    "cyclist_causalties_2016=nypd_df[is_2016][['NUMBER OF CYCLIST INJURED','NUMBER OF CYCLIST KILLED']].sum().sum()\n",
    "total_collisions_2016=nypd_df[is_2016][['UNIQUE KEY']].count()[0]"
   ]
  },
  {
   "cell_type": "code",
   "execution_count": 115,
   "metadata": {},
   "outputs": [
    {
     "name": "stdout",
     "output_type": "stream",
     "text": [
      "0.02186372597231349\n"
     ]
    }
   ],
   "source": [
    "print(str(cyclist_causalties_2016/total_collisions_2016))"
   ]
  },
  {
   "cell_type": "code",
   "execution_count": 8,
   "metadata": {},
   "outputs": [
    {
     "data": {
      "text/plain": [
       "0.2065434511"
      ]
     },
     "execution_count": 8,
     "metadata": {},
     "output_type": "execute_result"
    }
   ],
   "source": []
  },
  {
   "cell_type": "markdown",
   "metadata": {},
   "source": [
    "#### What proportion of all collisions in 2016 occured in Brooklyn? Only consider entries with a non-null value for BOROUGH."
   ]
  },
  {
   "cell_type": "code",
   "execution_count": 124,
   "metadata": {},
   "outputs": [],
   "source": [
    "is_Brooklyn=(nypd_df[is_2016]['BOROUGH']=='BROOKLYN')"
   ]
  },
  {
   "cell_type": "code",
   "execution_count": 126,
   "metadata": {},
   "outputs": [],
   "source": [
    "total_collisions_2016_brooklyn=nypd_df[is_2016][is_Brooklyn].count()[0]"
   ]
  },
  {
   "cell_type": "code",
   "execution_count": 127,
   "metadata": {},
   "outputs": [
    {
     "name": "stdout",
     "output_type": "stream",
     "text": [
      "0.20654345110907057\n"
     ]
    }
   ],
   "source": [
    "print(str(total_collisions_2016_brooklyn/total_collisions_2016))"
   ]
  },
  {
   "cell_type": "markdown",
   "metadata": {},
   "source": [
    "#### For each borough, compute the number of accidents per capita involving alcohol in 2017. Report the highest rate among the 5 boroughs. Use populations as given by https://en.wikipedia.org/wiki/Demographics_of_New_York_City."
   ]
  },
  {
   "cell_type": "code",
   "execution_count": 159,
   "metadata": {},
   "outputs": [],
   "source": [
    "is_2017=(nypd_df['DATE']<='2017-12-31') & (nypd_df['DATE']>='2017-01-01')\n",
    "invloves_alcohol_2017=(nypd_df[is_2017]['CONTRIBUTING FACTOR VEHICLE 1']==\"Alcohol Involvement\") | (nypd_df[is_2017]['CONTRIBUTING FACTOR VEHICLE 2']==\"Alcohol Involvement\") | (nypd_df[is_2017]['CONTRIBUTING FACTOR VEHICLE 3']==\"Alcohol Involvement\") | (nypd_df[is_2017]['CONTRIBUTING FACTOR VEHICLE 4']==\"Alcohol Involvement\") | (nypd_df[is_2017]['CONTRIBUTING FACTOR VEHICLE 5']==\"Alcohol Involvement\")"
   ]
  },
  {
   "cell_type": "markdown",
   "metadata": {},
   "source": [
    "#### Polulation of 5 Boroughs\n",
    "- The Bronx: 1471160\n",
    "- Brooklyn: 2648771\n",
    "- Manhattan: 1664727\n",
    "- Queens: 2358582\n",
    "- Staten Island: 479458\n"
   ]
  },
  {
   "cell_type": "code",
   "execution_count": 176,
   "metadata": {},
   "outputs": [],
   "source": [
    "accidents_per_capita_2017=nypd_df[is_2017][invloves_alcohol_2017][['UNIQUE KEY','BOROUGH']].groupby('BOROUGH').count().reset_index()\n",
    "accidents_per_capita_2017['POPULATION']=[1471160,2648771,1664727,2358582,479458]\n",
    "accidents_per_capita_2017=accidents_per_capita_2017.rename(index=str,columns={'UNIQUE KEY':'ACCIDENTS'})\n",
    "accidents_per_capita_2017['PER CAPITA']=accidents_per_capita_2017['ACCIDENTS']/accidents_per_capita_2017['POPULATION']"
   ]
  },
  {
   "cell_type": "code",
   "execution_count": 177,
   "metadata": {},
   "outputs": [
    {
     "data": {
      "text/html": [
       "<div>\n",
       "<style scoped>\n",
       "    .dataframe tbody tr th:only-of-type {\n",
       "        vertical-align: middle;\n",
       "    }\n",
       "\n",
       "    .dataframe tbody tr th {\n",
       "        vertical-align: top;\n",
       "    }\n",
       "\n",
       "    .dataframe thead th {\n",
       "        text-align: right;\n",
       "    }\n",
       "</style>\n",
       "<table border=\"1\" class=\"dataframe\">\n",
       "  <thead>\n",
       "    <tr style=\"text-align: right;\">\n",
       "      <th></th>\n",
       "      <th>BOROUGH</th>\n",
       "      <th>ACCIDENTS</th>\n",
       "      <th>POPULATION</th>\n",
       "      <th>PER CAPITA</th>\n",
       "    </tr>\n",
       "  </thead>\n",
       "  <tbody>\n",
       "    <tr>\n",
       "      <th>0</th>\n",
       "      <td>BRONX</td>\n",
       "      <td>274</td>\n",
       "      <td>1471160</td>\n",
       "      <td>0.000186</td>\n",
       "    </tr>\n",
       "    <tr>\n",
       "      <th>1</th>\n",
       "      <td>BROOKLYN</td>\n",
       "      <td>602</td>\n",
       "      <td>2648771</td>\n",
       "      <td>0.000227</td>\n",
       "    </tr>\n",
       "    <tr>\n",
       "      <th>2</th>\n",
       "      <td>MANHATTAN</td>\n",
       "      <td>259</td>\n",
       "      <td>1664727</td>\n",
       "      <td>0.000156</td>\n",
       "    </tr>\n",
       "    <tr>\n",
       "      <th>3</th>\n",
       "      <td>QUEENS</td>\n",
       "      <td>512</td>\n",
       "      <td>2358582</td>\n",
       "      <td>0.000217</td>\n",
       "    </tr>\n",
       "    <tr>\n",
       "      <th>4</th>\n",
       "      <td>STATEN ISLAND</td>\n",
       "      <td>100</td>\n",
       "      <td>479458</td>\n",
       "      <td>0.000209</td>\n",
       "    </tr>\n",
       "  </tbody>\n",
       "</table>\n",
       "</div>"
      ],
      "text/plain": [
       "         BOROUGH  ACCIDENTS  POPULATION  PER CAPITA\n",
       "0          BRONX        274     1471160    0.000186\n",
       "1       BROOKLYN        602     2648771    0.000227\n",
       "2      MANHATTAN        259     1664727    0.000156\n",
       "3         QUEENS        512     2358582    0.000217\n",
       "4  STATEN ISLAND        100      479458    0.000209"
      ]
     },
     "execution_count": 177,
     "metadata": {},
     "output_type": "execute_result"
    }
   ],
   "source": [
    "accidents_per_capita_2017"
   ]
  },
  {
   "cell_type": "code",
   "execution_count": 184,
   "metadata": {},
   "outputs": [
    {
     "data": {
      "text/plain": [
       "PER CAPITA    0.000227\n",
       "dtype: float64"
      ]
     },
     "execution_count": 184,
     "metadata": {},
     "output_type": "execute_result"
    }
   ],
   "source": [
    "accidents_per_capita_2017[['PER CAPITA']].max() # Brooklyn"
   ]
  },
  {
   "cell_type": "markdown",
   "metadata": {},
   "source": [
    "#### Obtain the number of vehicles involved in each collision in 2016. Group the collisions by zip code and compute the sum of all vehicles involved in collisions in each zip code, then report the maximum of these values."
   ]
  },
  {
   "cell_type": "code",
   "execution_count": 298,
   "metadata": {},
   "outputs": [
    {
     "name": "stderr",
     "output_type": "stream",
     "text": [
      "C:\\Users\\ajink\\AppData\\Roaming\\Python\\Python37\\site-packages\\ipykernel_launcher.py:3: SettingWithCopyWarning: \n",
      "A value is trying to be set on a copy of a slice from a DataFrame.\n",
      "Try using .loc[row_indexer,col_indexer] = value instead\n",
      "\n",
      "See the caveats in the documentation: http://pandas.pydata.org/pandas-docs/stable/indexing.html#indexing-view-versus-copy\n",
      "  This is separate from the ipykernel package so we can avoid doing imports until\n"
     ]
    }
   ],
   "source": [
    "#zip_code_not_null=nypd_df[is_2016][['ZIP CODE']].notnull()==True\n",
    "nypd_df['NUMBER OF VEHICLES INVOLVED']=nypd_df[['VEHICLE TYPE CODE 1','VEHICLE TYPE CODE 2',\n",
    "                  'VEHICLE TYPE CODE 3','VEHICLE TYPE CODE 4','VEHICLE TYPE CODE 5']].count(axis=1)\n"
   ]
  },
  {
   "cell_type": "code",
   "execution_count": 303,
   "metadata": {},
   "outputs": [],
   "source": [
    "COLLISIONS_BY_ZIP=nypd_df[is_2016][['ZIP CODE','NUMBER OF VEHICLES INVOLVED']].groupby('ZIP CODE').sum().reset_index()\n",
    "MAX_COLLISIONS_BY_ZIP=COLLISIONS_BY_ZIP[['NUMBER OF VEHICLES INVOLVED']].max()[0]"
   ]
  },
  {
   "cell_type": "code",
   "execution_count": 304,
   "metadata": {},
   "outputs": [
    {
     "data": {
      "text/html": [
       "<div>\n",
       "<style scoped>\n",
       "    .dataframe tbody tr th:only-of-type {\n",
       "        vertical-align: middle;\n",
       "    }\n",
       "\n",
       "    .dataframe tbody tr th {\n",
       "        vertical-align: top;\n",
       "    }\n",
       "\n",
       "    .dataframe thead th {\n",
       "        text-align: right;\n",
       "    }\n",
       "</style>\n",
       "<table border=\"1\" class=\"dataframe\">\n",
       "  <thead>\n",
       "    <tr style=\"text-align: right;\">\n",
       "      <th></th>\n",
       "      <th>ZIP CODE</th>\n",
       "      <th>NUMBER OF VEHICLES INVOLVED</th>\n",
       "    </tr>\n",
       "  </thead>\n",
       "  <tbody>\n",
       "    <tr>\n",
       "      <th>127</th>\n",
       "      <td>11207</td>\n",
       "      <td>5703</td>\n",
       "    </tr>\n",
       "  </tbody>\n",
       "</table>\n",
       "</div>"
      ],
      "text/plain": [
       "    ZIP CODE  NUMBER OF VEHICLES INVOLVED\n",
       "127    11207                         5703"
      ]
     },
     "execution_count": 304,
     "metadata": {},
     "output_type": "execute_result"
    }
   ],
   "source": [
    "COLLISIONS_BY_ZIP[COLLISIONS_BY_ZIP['NUMBER OF VEHICLES INVOLVED']==MAX_COLLISIONS_BY_ZIP]"
   ]
  },
  {
   "cell_type": "markdown",
   "metadata": {},
   "source": [
    "#### Consider the total number of collisions each year from 2013-2018. Is there an apparent trend? Fit a linear regression for the number of collisions per year and report its slope."
   ]
  },
  {
   "cell_type": "code",
   "execution_count": 224,
   "metadata": {},
   "outputs": [],
   "source": [
    "is_in_2013_and_2018=(nypd_df['DATE']<='2018-12-31') & (nypd_df['DATE']>='2013-01-01')"
   ]
  },
  {
   "cell_type": "code",
   "execution_count": 230,
   "metadata": {},
   "outputs": [],
   "source": [
    "nypd_df1=nypd_df[is_in_2013_and_2018][['DATE','UNIQUE KEY']]"
   ]
  },
  {
   "cell_type": "code",
   "execution_count": 276,
   "metadata": {},
   "outputs": [],
   "source": [
    "nypd_df1['YEAR']=nypd_df1['DATE'].dt.year\n",
    "nypd_df1['YEAR']=pd.to_numeric(nypd_df1.YEAR)"
   ]
  },
  {
   "cell_type": "code",
   "execution_count": 277,
   "metadata": {},
   "outputs": [],
   "source": [
    "collisions_per_year_df=nypd_df1.reset_index().drop(columns=['index','DATE']).groupby('YEAR').count().rename(index=str,columns={'UNIQUE KEY':'COLLISIONS'}).reset_index()"
   ]
  },
  {
   "cell_type": "code",
   "execution_count": 281,
   "metadata": {},
   "outputs": [
    {
     "data": {
      "text/plain": [
       "array([2013, 2014, 2015, 2016, 2017, 2018])"
      ]
     },
     "execution_count": 281,
     "metadata": {},
     "output_type": "execute_result"
    }
   ],
   "source": [
    "collisions_per_year_df['YEAR'].astype(int).values\n"
   ]
  },
  {
   "cell_type": "code",
   "execution_count": null,
   "metadata": {},
   "outputs": [],
   "source": []
  },
  {
   "cell_type": "code",
   "execution_count": 294,
   "metadata": {},
   "outputs": [
    {
     "name": "stdout",
     "output_type": "stream",
     "text": [
      "SLOPE =109.13396510524007\n"
     ]
    },
    {
     "data": {
      "image/png": "[encoded data removed]",
      "text/plain": [
       "<Figure size 576x432 with 1 Axes>"
      ]
     },
     "metadata": {
      "needs_background": "light"
     },
     "output_type": "display_data"
    }
   ],
   "source": [
    "x = np.array(collisions_per_year_df['YEAR'].astype(int).values)\n",
    "#x = x-min(x)\n",
    "y = np.array(collisions_per_year_df['COLLISIONS'].astype(int).values)\n",
    "#y=y-min(y)\n",
    "results = sm.OLS(y, x).fit()\n",
    "slope=results.params[0]\n",
    "\n",
    "plt.figure(figsize=(8,6))\n",
    "# Plot a line\n",
    "plt.plot(x, y, 'bo')\n",
    "y =  slope * x\n",
    "plt.title('number of collisions per year')\n",
    "plt.plot(x, y, 'r-')\n",
    "print('SLOPE ='+str(slope))\n",
    "plt.show()\n"
   ]
  },
  {
   "cell_type": "markdown",
   "metadata": {},
   "source": [
    "#### Do winter driving conditions lead to more multi-car collisions? Compute the rate of multi car collisions as the proportion of the number of collisions involving 3 or more cars to the total number of collisions for each month of 2017. Calculate the chi-square test statistic for testing whether a collision is more likely to involve 3 or more cars in January than in May."
   ]
  },
  {
   "cell_type": "code",
   "execution_count": 10,
   "metadata": {},
   "outputs": [
    {
     "data": {
      "text/plain": [
       "109.1339651052"
      ]
     },
     "execution_count": 10,
     "metadata": {},
     "output_type": "execute_result"
    }
   ],
   "source": [
    "round(109.13396510524007,10)"
   ]
  },
  {
   "cell_type": "code",
   "execution_count": 309,
   "metadata": {},
   "outputs": [],
   "source": [
    "nypd_df2=nypd_df[is_2017][['UNIQUE KEY','DATE','NUMBER OF VEHICLES INVOLVED']]"
   ]
  },
  {
   "cell_type": "code",
   "execution_count": 311,
   "metadata": {},
   "outputs": [],
   "source": [
    "nypd_df2['MONTH']=nypd_df2['DATE'].dt.month"
   ]
  },
  {
   "cell_type": "code",
   "execution_count": 326,
   "metadata": {},
   "outputs": [],
   "source": [
    "total_collisions_by_month=nypd_df2.drop(columns=['DATE','NUMBER OF VEHICLES INVOLVED']).groupby('MONTH').count().reset_index().rename(index=str,columns={'UNIQUE KEY':'TOTAL'})"
   ]
  },
  {
   "cell_type": "code",
   "execution_count": 325,
   "metadata": {},
   "outputs": [],
   "source": [
    "is_multiple=nypd_df2['NUMBER OF VEHICLES INVOLVED']>=3\n",
    "multiple_collisions_by_month=nypd_df2[is_multiple].drop(columns=['DATE','NUMBER OF VEHICLES INVOLVED']).groupby('MONTH').count().reset_index().rename(index=str,columns={'UNIQUE KEY':'MULTIPLE'})"
   ]
  },
  {
   "cell_type": "code",
   "execution_count": 329,
   "metadata": {},
   "outputs": [],
   "source": [
    "collisions_by_month=pd.merge(total_collisions_by_month, multiple_collisions_by_month, on='MONTH')\n",
    "collisions_by_month['RATIO']=collisions_by_month['MULTIPLE']/collisions_by_month['TOTAL']"
   ]
  },
  {
   "cell_type": "code",
   "execution_count": 330,
   "metadata": {},
   "outputs": [
    {
     "data": {
      "text/html": [
       "<div>\n",
       "<style scoped>\n",
       "    .dataframe tbody tr th:only-of-type {\n",
       "        vertical-align: middle;\n",
       "    }\n",
       "\n",
       "    .dataframe tbody tr th {\n",
       "        vertical-align: top;\n",
       "    }\n",
       "\n",
       "    .dataframe thead th {\n",
       "        text-align: right;\n",
       "    }\n",
       "</style>\n",
       "<table border=\"1\" class=\"dataframe\">\n",
       "  <thead>\n",
       "    <tr style=\"text-align: right;\">\n",
       "      <th></th>\n",
       "      <th>MONTH</th>\n",
       "      <th>TOTAL</th>\n",
       "      <th>MULTIPLE</th>\n",
       "      <th>RATIO</th>\n",
       "    </tr>\n",
       "  </thead>\n",
       "  <tbody>\n",
       "    <tr>\n",
       "      <th>0</th>\n",
       "      <td>1</td>\n",
       "      <td>17551</td>\n",
       "      <td>6212</td>\n",
       "      <td>0.353940</td>\n",
       "    </tr>\n",
       "    <tr>\n",
       "      <th>1</th>\n",
       "      <td>2</td>\n",
       "      <td>15835</td>\n",
       "      <td>1028</td>\n",
       "      <td>0.064919</td>\n",
       "    </tr>\n",
       "    <tr>\n",
       "      <th>2</th>\n",
       "      <td>3</td>\n",
       "      <td>19336</td>\n",
       "      <td>919</td>\n",
       "      <td>0.047528</td>\n",
       "    </tr>\n",
       "    <tr>\n",
       "      <th>3</th>\n",
       "      <td>4</td>\n",
       "      <td>17829</td>\n",
       "      <td>951</td>\n",
       "      <td>0.053340</td>\n",
       "    </tr>\n",
       "    <tr>\n",
       "      <th>4</th>\n",
       "      <td>5</td>\n",
       "      <td>21012</td>\n",
       "      <td>1136</td>\n",
       "      <td>0.054064</td>\n",
       "    </tr>\n",
       "    <tr>\n",
       "      <th>5</th>\n",
       "      <td>6</td>\n",
       "      <td>21369</td>\n",
       "      <td>1154</td>\n",
       "      <td>0.054003</td>\n",
       "    </tr>\n",
       "    <tr>\n",
       "      <th>6</th>\n",
       "      <td>7</td>\n",
       "      <td>19593</td>\n",
       "      <td>1080</td>\n",
       "      <td>0.055122</td>\n",
       "    </tr>\n",
       "    <tr>\n",
       "      <th>7</th>\n",
       "      <td>8</td>\n",
       "      <td>19134</td>\n",
       "      <td>1056</td>\n",
       "      <td>0.055190</td>\n",
       "    </tr>\n",
       "    <tr>\n",
       "      <th>8</th>\n",
       "      <td>9</td>\n",
       "      <td>19604</td>\n",
       "      <td>1147</td>\n",
       "      <td>0.058508</td>\n",
       "    </tr>\n",
       "    <tr>\n",
       "      <th>9</th>\n",
       "      <td>10</td>\n",
       "      <td>20358</td>\n",
       "      <td>1175</td>\n",
       "      <td>0.057717</td>\n",
       "    </tr>\n",
       "    <tr>\n",
       "      <th>10</th>\n",
       "      <td>11</td>\n",
       "      <td>19661</td>\n",
       "      <td>1176</td>\n",
       "      <td>0.059814</td>\n",
       "    </tr>\n",
       "    <tr>\n",
       "      <th>11</th>\n",
       "      <td>12</td>\n",
       "      <td>19715</td>\n",
       "      <td>1186</td>\n",
       "      <td>0.060157</td>\n",
       "    </tr>\n",
       "  </tbody>\n",
       "</table>\n",
       "</div>"
      ],
      "text/plain": [
       "    MONTH  TOTAL  MULTIPLE     RATIO\n",
       "0       1  17551      6212  0.353940\n",
       "1       2  15835      1028  0.064919\n",
       "2       3  19336       919  0.047528\n",
       "3       4  17829       951  0.053340\n",
       "4       5  21012      1136  0.054064\n",
       "5       6  21369      1154  0.054003\n",
       "6       7  19593      1080  0.055122\n",
       "7       8  19134      1056  0.055190\n",
       "8       9  19604      1147  0.058508\n",
       "9      10  20358      1175  0.057717\n",
       "10     11  19661      1176  0.059814\n",
       "11     12  19715      1186  0.060157"
      ]
     },
     "execution_count": 330,
     "metadata": {},
     "output_type": "execute_result"
    }
   ],
   "source": [
    "collisions_by_month"
   ]
  },
  {
   "cell_type": "code",
   "execution_count": 331,
   "metadata": {},
   "outputs": [],
   "source": [
    "is_JanMay=(collisions_by_month['MONTH']==1) | (collisions_by_month['MONTH']==5)"
   ]
  },
  {
   "cell_type": "code",
   "execution_count": 339,
   "metadata": {},
   "outputs": [],
   "source": [
    "chi_square_actual=collisions_by_month[is_JanMay].drop(columns=['MONTH','RATIO']).astype(int).values"
   ]
  },
  {
   "cell_type": "code",
   "execution_count": 350,
   "metadata": {},
   "outputs": [
    {
     "data": {
      "text/plain": [
       "array([[17551,  6212],\n",
       "       [21012,  1136]])"
      ]
     },
     "execution_count": 350,
     "metadata": {},
     "output_type": "execute_result"
    }
   ],
   "source": [
    "chi_square_actual"
   ]
  },
  {
   "cell_type": "code",
   "execution_count": 366,
   "metadata": {},
   "outputs": [],
   "source": [
    "sumR1=sum(chi_square_actual[0])\n",
    "sumR2=sum(chi_square_actual[1])\n",
    "sumC1=sum(chi_square_actual[:,0])\n",
    "sumC2=sum(chi_square_actual[:,1])\n",
    "sumT=sum(sum(chi_square_actual))\n",
    "E11=(sumR1*sumC1)/sumT\n",
    "E12=(sumR1*sumC2)/sumT\n",
    "E21=(sumR2*sumC1)/sumT\n",
    "E22=(sumR2*sumC2)/sumT"
   ]
  },
  {
   "cell_type": "code",
   "execution_count": 367,
   "metadata": {},
   "outputs": [],
   "source": [
    "chi_square_exp=np.array([[E11,E12],[E21,E22]])"
   ]
  },
  {
   "cell_type": "code",
   "execution_count": 375,
   "metadata": {},
   "outputs": [],
   "source": [
    "chi_square_res=np.sum(np.sum(((chi_square_actual-chi_square_exp)**2)/chi_square_exp))\n",
    "dof=(sumC1-1)*(2-1)"
   ]
  },
  {
   "cell_type": "code",
   "execution_count": 380,
   "metadata": {},
   "outputs": [],
   "source": [
    "critical_value=chi_square_res/dof"
   ]
  },
  {
   "cell_type": "code",
   "execution_count": 381,
   "metadata": {},
   "outputs": [
    {
     "name": "stdout",
     "output_type": "stream",
     "text": [
      "Null Hypothesis: A collision is not likely to involve 3 or more cars in January than in May.\n",
      "Since chi-square test statistic0.09763426074799893 is more than the 0.05, we reject the null hypothesis\n"
     ]
    }
   ],
   "source": [
    "print('Null Hypothesis: A collision is not likely to involve 3 or more cars in January than in May.')\n",
    "print('Since chi-square test statistic' + str(critical_value) + ' is more than the 0.05, we reject the null hypothesis')\n"
   ]
  },
  {
   "cell_type": "code",
   "execution_count": 11,
   "metadata": {},
   "outputs": [
    {
     "data": {
      "text/plain": [
       "0.0976342607"
      ]
     },
     "execution_count": 11,
     "metadata": {},
     "output_type": "execute_result"
    }
   ],
   "source": [
    "round(0.09763426074799893,10)"
   ]
  },
  {
   "cell_type": "markdown",
   "metadata": {},
   "source": [
    "#### We can use collision locations to estimate the areas of the zip code regions. Represent each as an ellipse with semi-axes given by a single standard deviation of the longitude and latitude. For collisions in 2017, estimate the number of collisions per square kilometer of each zip code region. Considering zipcodes with at least 1000 collisions, report the greatest value for collisions per square kilometer. Note: Some entries may have invalid or incorrect (latitude, longitude) coordinates. Drop any values that are invalid or seem unreasonable for New York City."
   ]
  },
  {
   "cell_type": "code",
   "execution_count": 425,
   "metadata": {},
   "outputs": [],
   "source": [
    "areas_df=nypd_df[['ZIP CODE','LATITUDE','LONGITUDE']]\n",
    "in_ny=(areas_df['LATITUDE']>=40.496704) & (areas_df['LATITUDE']<=40.912204) & \\\n",
    "(areas_df['LONGITUDE']>=-74.256) & (areas_df['LONGITUDE']<=-70.701608)\n",
    "areas_df=areas_df[in_ny]"
   ]
  },
  {
   "cell_type": "code",
   "execution_count": 422,
   "metadata": {},
   "outputs": [],
   "source": [
    "PI=np.pi\n",
    "ONE_DEG_LAT=111.03\n",
    "ONE_DEG_LON=85.39"
   ]
  },
  {
   "cell_type": "code",
   "execution_count": 426,
   "metadata": {},
   "outputs": [],
   "source": [
    "areas_df=areas_df.groupby('ZIP CODE').std().reset_index()\n",
    "areas_df['AREA']=PI*areas_df['LATITUDE']*ONE_DEG_LAT*areas_df['LONGITUDE']*ONE_DEG_LON\n",
    "areas_df=areas_df.drop(columns=['LATITUDE','LONGITUDE'])"
   ]
  },
  {
   "cell_type": "markdown",
   "metadata": {},
   "source": [
    "##### NOTES\n",
    "- Area of Eclipse=pi.a.b\n",
    "- AT 40 degrees N, One degree of latitude =  111.03 km or  68.99 mi\n",
    "- AT 40 degrees N, One degree of longitude =  85.39 km or  53.06 mi\n",
    "    - Reference: http://www.longitudestore.com/how-big-is-one-gps-degree.html\n",
    "- Range: W -74.256 N 40.912204 E -70.701608 S 40.496704\n",
    "    - Reference: https://www.google.com/maps"
   ]
  },
  {
   "cell_type": "code",
   "execution_count": 429,
   "metadata": {},
   "outputs": [],
   "source": [
    "zip_collisions_2017=nypd_df[is_2017][['ZIP CODE','UNIQUE KEY']].groupby('ZIP CODE').count().reset_index()\n",
    "atleast_1000=zip_collisions_2017['UNIQUE KEY']>=1000\n",
    "zip_collisions_2017=zip_collisions_2017[atleast_1000]"
   ]
  },
  {
   "cell_type": "code",
   "execution_count": 431,
   "metadata": {},
   "outputs": [],
   "source": [
    "collisions_per_sqkm=zip_collisions_2017.merge(areas_df, on='ZIP CODE')"
   ]
  },
  {
   "cell_type": "code",
   "execution_count": 433,
   "metadata": {},
   "outputs": [],
   "source": [
    "collisions_per_sqkm['COLLISIONS PER KM.SQ']=collisions_per_sqkm['UNIQUE KEY']/collisions_per_sqkm['AREA']"
   ]
  },
  {
   "cell_type": "code",
   "execution_count": 436,
   "metadata": {},
   "outputs": [
    {
     "data": {
      "text/plain": [
       "5344.034330772173"
      ]
     },
     "execution_count": 436,
     "metadata": {},
     "output_type": "execute_result"
    }
   ],
   "source": [
    "collisions_per_sqkm['COLLISIONS PER KM.SQ'].max()"
   ]
  },
  {
   "cell_type": "code",
   "execution_count": 12,
   "metadata": {},
   "outputs": [
    {
     "data": {
      "text/plain": [
       "5344.0343307722"
      ]
     },
     "execution_count": 12,
     "metadata": {},
     "output_type": "execute_result"
    }
   ],
   "source": [
    "round(5344.034330772173,10)"
   ]
  },
  {
   "cell_type": "markdown",
   "metadata": {},
   "source": [
    "A sequence of n numbers is considered valid if the sequence begins with 1, ends with a given number j, and no two adjacent numbers are the same. Sequences may use any integers between 1 and a given number k, inclusive (also 1<=j<=k). Given parameters n, j, and k, count the number of valid sequences. The number of valid sequences may be very large, so express your answer modulo 10^10+7."
   ]
  },
  {
   "cell_type": "code",
   "execution_count": 456,
   "metadata": {},
   "outputs": [],
   "source": [
    "def getNumberOfSeq(n,k,j):\n",
    "    return 1*(k-1)**(n-4)*1*(k-1)*1+1*(k-1)**(n-4)*(k-2)*(k-2)*1\n",
    "\n",
    "def getNumberOfSeqFast(n,k,j):\n",
    "    term=(k-1)**(n-4)\n",
    "    return 1*(k-1)**(n-4)*1*(k-1)*1+1*(k-1)**(n-4)*(k-2)*(k-2)*1"
   ]
  },
  {
   "cell_type": "code",
   "execution_count": 22,
   "metadata": {},
   "outputs": [],
   "source": [
    "def getNumberOfSeqFast(n,k,j):\n",
    "    term=1\n",
    "    modNum=10**10+7\n",
    "    for i in range(n-4):\n",
    "        term*=(k-1)\n",
    "        term=term%modNum\n",
    "    term*=((k-1)+(k-2)*(k-2))\n",
    "    return term%modNum"
   ]
  },
  {
   "cell_type": "code",
   "execution_count": 26,
   "metadata": {},
   "outputs": [
    {
     "data": {
      "text/plain": [
       "5012827300"
      ]
     },
     "execution_count": 26,
     "metadata": {},
     "output_type": "execute_result"
    }
   ],
   "source": [
    "getNumberOfSeqFast(10**7,10**12,829)"
   ]
  },
  {
   "cell_type": "code",
   "execution_count": 21,
   "metadata": {},
   "outputs": [
    {
     "data": {
      "text/plain": [
       "10000000007"
      ]
     },
     "execution_count": 21,
     "metadata": {},
     "output_type": "execute_result"
    }
   ],
   "source": [
    "10**10+7"
   ]
  }
 ],
 "metadata": {
  "kernelspec": {
   "display_name": "Python 3",
   "language": "python",
   "name": "python3"
  },
  "language_info": {
   "codemirror_mode": {
    "name": "ipython",
    "version": 3
   },
   "file_extension": ".py",
   "mimetype": "text/x-python",
   "name": "python",
   "nbconvert_exporter": "python",
   "pygments_lexer": "ipython3",
   "version": "3.7.3"
  }
 },
 "nbformat": 4,
 "nbformat_minor": 2
}
